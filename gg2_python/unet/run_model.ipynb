{
  "cells": [
    {
      "cell_type": "code",
      "execution_count": 19,
      "metadata": {},
      "outputs": [],
      "source": [
        "\n",
        "%matplotlib inline\n",
        "import numpy as np\n",
        "import matplotlib.pyplot as plt\n",
        "import os, glob\n",
        "import nibabel as nib\n",
        "import numpy as np\n",
        "import matplotlib.pyplot as plt\n",
        "import pydicom\n",
        "\n",
        "\n",
        "import torch\n",
        "import torch.optim as optim\n",
        "from torch.utils.data import DataLoader\n",
        "from tqdm import tqdm\n",
        "\n",
        "from dataset import CTDataset\n",
        "#from logger import Logger\n",
        "from loss import DiceLoss\n",
        "from unet import UNet"
      ]
    },
    {
      "cell_type": "code",
      "execution_count": 20,
      "metadata": {},
      "outputs": [],
      "source": [
        "\n",
        "import torch.nn as nn\n",
        "import torch.nn.functional as F\n",
        "from collections import OrderedDict\n",
        "\n",
        "from train import *"
      ]
    },
    {
      "cell_type": "code",
      "execution_count": 46,
      "metadata": {},
      "outputs": [
        {
          "name": "stdout",
          "output_type": "stream",
          "text": [
            "c:\\Users\\Haimo Dong\\Desktop\\gg2_python\n",
            "c:\\Users\\Haimo Dong\\Desktop\\gg2_python\\unet\\model\\epoch200_test_model.pth\n",
            "(128, 128)\n",
            "(1, 128, 128)\n"
          ]
        },
        {
          "data": {
            "image/png": "[encoded data removed]",
            "text/plain": [
              "<Figure size 432x288 with 1 Axes>"
            ]
          },
          "metadata": {
            "needs_background": "light"
          },
          "output_type": "display_data"
        }
      ],
      "source": [
        "roots = os.path.split(os.getcwd())\n",
        "root = roots[0]\n",
        "model_path = os.path.join(root, 'unet\\\\model\\\\epoch200_test_model.pth')\n",
        "mask_folder_path = os.path.join(root, 'data\\\\train\\\\mask')\n",
        "image_folder_path = os.path.join(root, 'data\\\\train\\\\image')\n",
        "pred_folder_path = os.path.join(root, 'data\\\\prediction')\n",
        "\n",
        "print(root)\n",
        "print(model_path)\n",
        "\n",
        "test_path = os.path.join(root, 'data\\\\train\\\\mask\\\\z_mask045.txt')\n",
        "xxx = np.loadtxt(test_path)\n",
        "#plt.imshow(xxx)\n",
        "print(xxx.shape)\n",
        "y = np.expand_dims(xxx, axis=0)\n",
        "print(y.shape)\n",
        "plt.imshow(y[0])\n",
        "mask_folder_path = os.path.join(root, 'data\\\\train\\\\mask')\n",
        "image_folder_path = os.path.join(root, 'data\\\\train\\\\image')\n",
        "\n"
      ]
    },
    {
      "cell_type": "code",
      "execution_count": 22,
      "metadata": {},
      "outputs": [
        {
          "data": {
            "text/plain": [
              "UNet(\n",
              "  (encoder1): Sequential(\n",
              "    (enc1conv1): Conv2d(1, 32, kernel_size=(3, 3), stride=(1, 1), padding=(1, 1), bias=False)\n",
              "    (enc1norm1): BatchNorm2d(32, eps=1e-05, momentum=0.1, affine=True, track_running_stats=True)\n",
              "    (enc1relu1): ReLU(inplace=True)\n",
              "    (enc1conv2): Conv2d(32, 32, kernel_size=(3, 3), stride=(1, 1), padding=(1, 1), bias=False)\n",
              "    (enc1norm2): BatchNorm2d(32, eps=1e-05, momentum=0.1, affine=True, track_running_stats=True)\n",
              "    (enc1relu2): ReLU(inplace=True)\n",
              "  )\n",
              "  (pool1): MaxPool2d(kernel_size=2, stride=2, padding=0, dilation=1, ceil_mode=False)\n",
              "  (encoder2): Sequential(\n",
              "    (enc2conv1): Conv2d(32, 64, kernel_size=(3, 3), stride=(1, 1), padding=(1, 1), bias=False)\n",
              "    (enc2norm1): BatchNorm2d(64, eps=1e-05, momentum=0.1, affine=True, track_running_stats=True)\n",
              "    (enc2relu1): ReLU(inplace=True)\n",
              "    (enc2conv2): Conv2d(64, 64, kernel_size=(3, 3), stride=(1, 1), padding=(1, 1), bias=False)\n",
              "    (enc2norm2): BatchNorm2d(64, eps=1e-05, momentum=0.1, affine=True, track_running_stats=True)\n",
              "    (enc2relu2): ReLU(inplace=True)\n",
              "  )\n",
              "  (pool2): MaxPool2d(kernel_size=2, stride=2, padding=0, dilation=1, ceil_mode=False)\n",
              "  (encoder3): Sequential(\n",
              "    (enc3conv1): Conv2d(64, 128, kernel_size=(3, 3), stride=(1, 1), padding=(1, 1), bias=False)\n",
              "    (enc3norm1): BatchNorm2d(128, eps=1e-05, momentum=0.1, affine=True, track_running_stats=True)\n",
              "    (enc3relu1): ReLU(inplace=True)\n",
              "    (enc3conv2): Conv2d(128, 128, kernel_size=(3, 3), stride=(1, 1), padding=(1, 1), bias=False)\n",
              "    (enc3norm2): BatchNorm2d(128, eps=1e-05, momentum=0.1, affine=True, track_running_stats=True)\n",
              "    (enc3relu2): ReLU(inplace=True)\n",
              "  )\n",
              "  (pool3): MaxPool2d(kernel_size=2, stride=2, padding=0, dilation=1, ceil_mode=False)\n",
              "  (encoder4): Sequential(\n",
              "    (enc4conv1): Conv2d(128, 256, kernel_size=(3, 3), stride=(1, 1), padding=(1, 1), bias=False)\n",
              "    (enc4norm1): BatchNorm2d(256, eps=1e-05, momentum=0.1, affine=True, track_running_stats=True)\n",
              "    (enc4relu1): ReLU(inplace=True)\n",
              "    (enc4conv2): Conv2d(256, 256, kernel_size=(3, 3), stride=(1, 1), padding=(1, 1), bias=False)\n",
              "    (enc4norm2): BatchNorm2d(256, eps=1e-05, momentum=0.1, affine=True, track_running_stats=True)\n",
              "    (enc4relu2): ReLU(inplace=True)\n",
              "  )\n",
              "  (pool4): MaxPool2d(kernel_size=2, stride=2, padding=0, dilation=1, ceil_mode=False)\n",
              "  (bottleneck): Sequential(\n",
              "    (bottleneckconv1): Conv2d(256, 512, kernel_size=(3, 3), stride=(1, 1), padding=(1, 1), bias=False)\n",
              "    (bottlenecknorm1): BatchNorm2d(512, eps=1e-05, momentum=0.1, affine=True, track_running_stats=True)\n",
              "    (bottleneckrelu1): ReLU(inplace=True)\n",
              "    (bottleneckconv2): Conv2d(512, 512, kernel_size=(3, 3), stride=(1, 1), padding=(1, 1), bias=False)\n",
              "    (bottlenecknorm2): BatchNorm2d(512, eps=1e-05, momentum=0.1, affine=True, track_running_stats=True)\n",
              "    (bottleneckrelu2): ReLU(inplace=True)\n",
              "  )\n",
              "  (upconv4): ConvTranspose2d(512, 256, kernel_size=(2, 2), stride=(2, 2))\n",
              "  (decoder4): Sequential(\n",
              "    (dec4conv1): Conv2d(512, 256, kernel_size=(3, 3), stride=(1, 1), padding=(1, 1), bias=False)\n",
              "    (dec4norm1): BatchNorm2d(256, eps=1e-05, momentum=0.1, affine=True, track_running_stats=True)\n",
              "    (dec4relu1): ReLU(inplace=True)\n",
              "    (dec4conv2): Conv2d(256, 256, kernel_size=(3, 3), stride=(1, 1), padding=(1, 1), bias=False)\n",
              "    (dec4norm2): BatchNorm2d(256, eps=1e-05, momentum=0.1, affine=True, track_running_stats=True)\n",
              "    (dec4relu2): ReLU(inplace=True)\n",
              "  )\n",
              "  (upconv3): ConvTranspose2d(256, 128, kernel_size=(2, 2), stride=(2, 2))\n",
              "  (decoder3): Sequential(\n",
              "    (dec3conv1): Conv2d(256, 128, kernel_size=(3, 3), stride=(1, 1), padding=(1, 1), bias=False)\n",
              "    (dec3norm1): BatchNorm2d(128, eps=1e-05, momentum=0.1, affine=True, track_running_stats=True)\n",
              "    (dec3relu1): ReLU(inplace=True)\n",
              "    (dec3conv2): Conv2d(128, 128, kernel_size=(3, 3), stride=(1, 1), padding=(1, 1), bias=False)\n",
              "    (dec3norm2): BatchNorm2d(128, eps=1e-05, momentum=0.1, affine=True, track_running_stats=True)\n",
              "    (dec3relu2): ReLU(inplace=True)\n",
              "  )\n",
              "  (upconv2): ConvTranspose2d(128, 64, kernel_size=(2, 2), stride=(2, 2))\n",
              "  (decoder2): Sequential(\n",
              "    (dec2conv1): Conv2d(128, 64, kernel_size=(3, 3), stride=(1, 1), padding=(1, 1), bias=False)\n",
              "    (dec2norm1): BatchNorm2d(64, eps=1e-05, momentum=0.1, affine=True, track_running_stats=True)\n",
              "    (dec2relu1): ReLU(inplace=True)\n",
              "    (dec2conv2): Conv2d(64, 64, kernel_size=(3, 3), stride=(1, 1), padding=(1, 1), bias=False)\n",
              "    (dec2norm2): BatchNorm2d(64, eps=1e-05, momentum=0.1, affine=True, track_running_stats=True)\n",
              "    (dec2relu2): ReLU(inplace=True)\n",
              "  )\n",
              "  (upconv1): ConvTranspose2d(64, 32, kernel_size=(2, 2), stride=(2, 2))\n",
              "  (decoder1): Sequential(\n",
              "    (dec1conv1): Conv2d(64, 32, kernel_size=(3, 3), stride=(1, 1), padding=(1, 1), bias=False)\n",
              "    (dec1norm1): BatchNorm2d(32, eps=1e-05, momentum=0.1, affine=True, track_running_stats=True)\n",
              "    (dec1relu1): ReLU(inplace=True)\n",
              "    (dec1conv2): Conv2d(32, 32, kernel_size=(3, 3), stride=(1, 1), padding=(1, 1), bias=False)\n",
              "    (dec1norm2): BatchNorm2d(32, eps=1e-05, momentum=0.1, affine=True, track_running_stats=True)\n",
              "    (dec1relu2): ReLU(inplace=True)\n",
              "  )\n",
              "  (conv): Conv2d(32, 1, kernel_size=(1, 1), stride=(1, 1))\n",
              ")"
            ]
          },
          "execution_count": 22,
          "metadata": {},
          "output_type": "execute_result"
        }
      ],
      "source": [
        "model = torch.load(model_path)\n",
        "model.eval()\n",
        "device = torch.device(\"cpu\" if not torch.cuda.is_available() else 'cuda')\n",
        "model.to(device)"
      ]
    },
    {
      "cell_type": "code",
      "execution_count": 23,
      "metadata": {},
      "outputs": [],
      "source": [
        "CT_dataset = CTDataset(image_folder_path, mask_folder_path)\n",
        "\n",
        "loader_train, loader_valid = data_loaders(CT_dataset, CT_dataset)"
      ]
    },
    {
      "cell_type": "code",
      "execution_count": 42,
      "metadata": {},
      "outputs": [
        {
          "data": {
            "text/plain": [
              "'\\nfor i, data in enumerate(loader_train):\\n\\n    x, y_true = data\\n    x, y_true = x.to(device), y_true.to(device)\\n    y_pred = model(x)\\n    batch_size = x.shape[0]\\n    print(x.shape)\\n    \\n    for j in range(batch_size):\\n        image, mask, pred_mask = x[j][0].cpu().detach().numpy(), y_true[j][0].cpu().detach().numpy(), y_pred[j][0].cpu().detach().numpy(), \\n        \\n        plt.figure(figsize=(15, 15))\\n    \\n        # plot 3 orthogonal slices\\n        a1 = plt.subplot(2, 2, 1)\\n        plt.imshow(image)\\n    \\n\\n        a2 = plt.subplot(2, 2, 2)\\n        plt.imshow(mask)\\n\\n\\n        a3 = plt.subplot(2, 2, 3)\\n        plt.imshow(pred_mask)\\n\\n        \\n        plt.show()\\n    #print(x[0].shape, y_true.shape, y_pred.shape\\n    '"
            ]
          },
          "execution_count": 42,
          "metadata": {},
          "output_type": "execute_result"
        }
      ],
      "source": [
        "'''\n",
        "for i, data in enumerate(loader_train):\n",
        "\n",
        "    x, y_true = data\n",
        "    x, y_true = x.to(device), y_true.to(device)\n",
        "    y_pred = model(x)\n",
        "    batch_size = x.shape[0]\n",
        "    print(x.shape)\n",
        "    \n",
        "    for j in range(batch_size):\n",
        "        image, mask, pred_mask = x[j][0].cpu().detach().numpy(), y_true[j][0].cpu().detach().numpy(), y_pred[j][0].cpu().detach().numpy(), \n",
        "        \n",
        "        plt.figure(figsize=(15, 15))\n",
        "    \n",
        "        # plot 3 orthogonal slices\n",
        "        a1 = plt.subplot(2, 2, 1)\n",
        "        plt.imshow(image)\n",
        "    \n",
        "\n",
        "        a2 = plt.subplot(2, 2, 2)\n",
        "        plt.imshow(mask)\n",
        "\n",
        "\n",
        "        a3 = plt.subplot(2, 2, 3)\n",
        "        plt.imshow(pred_mask)\n",
        "\n",
        "        \n",
        "        plt.show()\n",
        "    #print(x[0].shape, y_true.shape, y_pred.shape\n",
        "    '''\n"
      ]
    },
    {
      "cell_type": "code",
      "execution_count": 48,
      "metadata": {},
      "outputs": [],
      "source": [
        "pred_mask3d = []\n",
        "\n",
        "for image_name in os.listdir(image_folder_path):\n",
        "    image_path = os.path.join(image_folder_path, image_name)\n",
        "    image = np.loadtxt(image_path)\n",
        "    image = np.expand_dims(image, axis=0)\n",
        "    image = torch.tensor(np.expand_dims(image, axis=0), dtype=torch.float32)\n",
        "    image = image.to(device)\n",
        "    \n",
        "    mask_pred = model(image)\n",
        "    mask_pred = mask_pred.cpu().detach().numpy()[0][0]\n",
        "\n",
        "    pred_mask3d.append(mask_pred)\n",
        "    save_path = os.path.join(pred_folder_path, 'pred_' + image_name)\n",
        "    np.savetxt(save_path, mask_pred)\n",
        "    #plt.imshow(mask_pred)\n",
        "\n",
        "pred_mask3d = np.array(pred_mask3d)"
      ]
    },
    {
      "cell_type": "code",
      "execution_count": 20,
      "metadata": {},
      "outputs": [],
      "source": [
        "from skimage.measure import marching_cubes_lewiner\n",
        "import meshplot as mp\n",
        "from stl import mesh"
      ]
    },
    {
      "cell_type": "code",
      "execution_count": 21,
      "metadata": {},
      "outputs": [
        {
          "name": "stderr",
          "output_type": "stream",
          "text": [
            "C:\\Users\\HAIMOD~1\\AppData\\Local\\Temp/ipykernel_6176/1897982135.py:1: FutureWarning: marching_cubes_lewiner is deprecated in favor of marching_cubes. marching_cubes_lewiner will be removed in version 0.19\n",
            "  vertices,faces,_,_ = marching_cubes_lewiner(mask3d)\n"
          ]
        },
        {
          "data": {
            "application/vnd.jupyter.widget-view+json": {
              "model_id": "92bcfac14c4f431f97ca54ce251bcc6c",
              "version_major": 2,
              "version_minor": 0
            },
            "text/plain": [
              "Renderer(camera=PerspectiveCamera(children=(DirectionalLight(color='white', intensity=0.6, position=(36.5, 50.…"
            ]
          },
          "metadata": {},
          "output_type": "display_data"
        }
      ],
      "source": [
        "vertices,faces,_,_ = marching_cubes_lewiner(pred_mask3d)\n",
        "mp.plot(vertices, faces, return_plot=False)\n",
        "\n",
        "def dataToMesh(vert, faces):\n",
        "    mm = mesh.Mesh(np.zeros(faces.shape[0], dtype=mesh.Mesh.dtype))\n",
        "    for i, f in enumerate(faces):\n",
        "        for j in range(3):\n",
        "            mm.vectors[i][j] = vert[f[j],:]\n",
        "    return mm\n",
        "\n",
        "mm = dataToMesh(vertices, faces)\n",
        "mm.save('test_a_scan.stl')"
      ]
    },
    {
      "cell_type": "code",
      "execution_count": null,
      "metadata": {},
      "outputs": [],
      "source": []
    },
    {
      "cell_type": "code",
      "execution_count": null,
      "metadata": {},
      "outputs": [],
      "source": []
    },
    {
      "cell_type": "code",
      "execution_count": null,
      "metadata": {},
      "outputs": [],
      "source": []
    },
    {
      "cell_type": "code",
      "execution_count": 13,
      "metadata": {},
      "outputs": [],
      "source": []
    }
  ],
  "metadata": {
    "interpreter": {
      "hash": "d7288e82646d3164eca24130947288f8779d11454649f2c02a5dfc42af7f324c"
    },
    "kernelspec": {
      "display_name": "Python 3.9.7 ('base')",
      "language": "python",
      "name": "python3"
    },
    "language_info": {
      "codemirror_mode": {
        "name": "ipython",
        "version": 3
      },
      "file_extension": ".py",
      "mimetype": "text/x-python",
      "name": "python",
      "nbconvert_exporter": "python",
      "pygments_lexer": "ipython3",
      "version": "3.9.7"
    },
    "orig_nbformat": 4
  },
  "nbformat": 4,
  "nbformat_minor": 4
}
